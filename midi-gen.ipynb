{
 "cells": [
  {
   "cell_type": "markdown",
   "id": "d49d335d",
   "metadata": {},
   "source": [
    "Code referenced from https://www.youtube.com/watch?v=CbTU92pbDKw"
   ]
  },
  {
   "cell_type": "code",
   "execution_count": null,
   "id": "a2e4deb6",
   "metadata": {},
   "outputs": [],
   "source": [
    "from helpers import *\n",
    "from preprocessor import *\n",
    "\n",
    "# Load the MIDI file\n",
    "df = midi_get_df('classical-piano-type0_chpn-p19.mid')\n",
    "df.head()"
   ]
  },
  {
   "cell_type": "code",
   "execution_count": null,
   "id": "154379c9",
   "metadata": {},
   "outputs": [],
   "source": [
    "import matplotlib.pyplot as plt\n",
    "\n",
    "plt.plot(df['note'], df['duration'], \"*\")"
   ]
  },
  {
   "cell_type": "code",
   "execution_count": null,
   "id": "6291f589",
   "metadata": {},
   "outputs": [],
   "source": [
    "df = df[['start_time', 'note', 'duration']]\n",
    "# df.index = df.pop('start_time') # set date as the index instead of numbering\n",
    "df"
   ]
  },
  {
   "cell_type": "code",
   "execution_count": null,
   "id": "9446b182",
   "metadata": {},
   "outputs": [],
   "source": [
    "import matplotlib.pyplot as plt\n",
    "plt.plot(df[\"note\"], \"*\")"
   ]
  },
  {
   "cell_type": "code",
   "execution_count": null,
   "id": "6bf39e0e",
   "metadata": {},
   "outputs": [],
   "source": [
    "def prepare_note_duration_data(df, start_idx=0, end_idx=None, samples_per_row=3):\n",
    "    # Create end_time as the next note's start_time\n",
    "    df['end_time'] = df['start_time'].shift(-1)\n",
    "    df = df.dropna(subset=['end_time'])\n",
    "\n",
    "    # Slice based on start/end index\n",
    "    df = df.iloc[start_idx:end_idx].reset_index(drop=True)\n",
    "\n",
    "    # Ensure we have a duration column\n",
    "    if \"duration\" not in df.columns:\n",
    "        if \"start_time\" in df.columns and \"end_time\" in df.columns:\n",
    "            df[\"duration\"] = df[\"end_time\"] - df[\"start_time\"]\n",
    "        else:\n",
    "            raise ValueError(\"DataFrame must have either 'duration' or both 'start_time' and 'end_time'.\")\n",
    "\n",
    "    rows = []\n",
    "    for i in range(len(df) - samples_per_row):\n",
    "        start_time = df[\"start_time\"].iloc[i]  # keep start time of first note in window\n",
    "        past_durations = df[\"duration\"].iloc[i:i+samples_per_row].tolist()\n",
    "        past_notes = df[\"note\"].iloc[i:i+samples_per_row].tolist()\n",
    "\n",
    "        target_duration = df[\"duration\"].iloc[i + samples_per_row]\n",
    "        target_note = df[\"note\"].iloc[i + samples_per_row]\n",
    "\n",
    "        row = [start_time] + past_durations + past_notes + [target_duration, target_note]\n",
    "        rows.append(row)\n",
    "\n",
    "    # Column names\n",
    "    duration_cols = [f\"duration_{j+1}\" for j in range(samples_per_row)]\n",
    "    note_cols = [f\"note_{j+1}\" for j in range(samples_per_row)]\n",
    "    cols = [\"start_time\"] + duration_cols + note_cols + [\"target_duration\", \"target_note\"]\n",
    "\n",
    "    return pd.DataFrame(rows, columns=cols)\n",
    "\n",
    "windowed_df = prepare_note_duration_data(df)\n",
    "windowed_df\n",
    "\n",
    "# target 1-3 are previous n values. This converts the inputs to the target output."
   ]
  },
  {
   "cell_type": "code",
   "execution_count": null,
   "id": "40199a3e",
   "metadata": {},
   "outputs": [],
   "source": [
    "# time, X, y = windowed_df_to_date_X_y(windowed_df)\n",
    "time = windowed_df[\"start_time\"]\n",
    "X = windowed_df[[\"duration_1\", \"note_1\",\n",
    "                \"duration_2\", \"note_2\",\n",
    "                \"duration_3\", \"note_3\"]]\n",
    "y = windowed_df[[\"target_duration\", \"target_note\"]]\n",
    "\n",
    "time.shape, X.shape, y.shape"
   ]
  },
  {
   "cell_type": "code",
   "execution_count": null,
   "id": "03219a7c",
   "metadata": {},
   "outputs": [],
   "source": [
    "q_80 = int(len(time) * 0.8)\n",
    "q_90 = int(len(time) * 0.9)\n",
    "\n",
    "times_train, X_train, y_train = time[:q_80], X[:q_80], y[:q_80]\n",
    "\n",
    "times_val, X_val, y_val = time[q_80:q_90], X[q_80:q_90], y[q_80:q_90]\n",
    "times_test, X_test, y_test = time[q_90:], X[q_90:], y[q_90:]\n",
    "\n",
    "plt.plot(times_train, y_train, \"*\")\n",
    "plt.plot(times_val, y_val, \"*\")\n",
    "plt.plot(times_test, y_test, \"*\")\n",
    "\n",
    "plt.legend(['Train', 'Validation', 'Test'])"
   ]
  },
  {
   "cell_type": "code",
   "execution_count": null,
   "id": "d558fa24",
   "metadata": {},
   "outputs": [],
   "source": [
    "from tensorflow.keras.models import Sequential\n",
    "from tensorflow.keras.optimizers import Adam\n",
    "from tensorflow.keras import layers\n",
    "\n",
    "model = Sequential([layers.Input((6, 1)), # 3 days in the past input shape\n",
    "                    layers.LSTM(64),\n",
    "                    layers.Dense(32, activation='swish'),\n",
    "                    layers.Dense(32, activation='swish'),\n",
    "                    layers.Dense(2)])\n",
    "\n",
    "model.compile(loss='mse', \n",
    "              optimizer=Adam(learning_rate=0.001),\n",
    "              metrics=['mean_absolute_error'])\n",
    "\n",
    "model.fit(X_train, y_train, validation_data=(X_val, y_val), epochs=100)\n"
   ]
  },
  {
   "cell_type": "code",
   "execution_count": null,
   "id": "24d65a06",
   "metadata": {},
   "outputs": [],
   "source": [
    "train_predictions = model.predict(X_train).flatten()\n",
    "\n",
    "plt.plot(times_train, train_predictions, \"*\")\n",
    "plt.plot(times_train, y_train, \"*\")\n",
    "plt.legend(['Training Predictions', 'Training Observations'])"
   ]
  },
  {
   "cell_type": "markdown",
   "id": "33cc2e38",
   "metadata": {},
   "source": [
    "Recall that we use a prev 3 day to predict current point. This is characteristics of a lagging controller. This is shown in the plots where the predictions lag behind the actual value. "
   ]
  },
  {
   "cell_type": "code",
   "execution_count": null,
   "id": "034e9a2e",
   "metadata": {},
   "outputs": [],
   "source": [
    "val_predictions = model.predict(X_val).flatten()\n",
    "\n",
    "plt.plot(times_val, val_predictions, \"*\")\n",
    "plt.plot(times_val, y_val, \"*\")\n",
    "plt.legend(['Validation Predictions', 'Validation Observations'])"
   ]
  },
  {
   "cell_type": "code",
   "execution_count": null,
   "id": "f3684ef0",
   "metadata": {},
   "outputs": [],
   "source": [
    "test_predictions = model.predict(X_test).flatten()\n",
    "\n",
    "plt.plot(times_test, test_predictions, \"*\")\n",
    "plt.plot(times_test, y_test, \"*\")\n",
    "plt.legend(['Testing Predictions', 'Testing Observations'])"
   ]
  },
  {
   "cell_type": "code",
   "execution_count": null,
   "id": "72b70a6f",
   "metadata": {},
   "outputs": [],
   "source": [
    "plt.plot(times_train, train_predictions, \"*\")\n",
    "plt.plot(times_train, y_train, \"*\")\n",
    "plt.plot(times_val, val_predictions, \"*\")\n",
    "plt.plot(times_val, y_val, \"*\")\n",
    "plt.plot(times_test, test_predictions, \"*\")\n",
    "plt.plot(times_test, y_test, \"*\")\n",
    "plt.legend(['Training Predictions', \n",
    "            'Training Observations',\n",
    "            'Validation Predictions', \n",
    "            'Validation Observations',\n",
    "            'Testing Predictions', \n",
    "            'Testing Observations'])"
   ]
  },
  {
   "cell_type": "code",
   "execution_count": null,
   "id": "362b8a3f",
   "metadata": {},
   "outputs": [],
   "source": []
  }
 ],
 "metadata": {
  "kernelspec": {
   "display_name": "tf",
   "language": "python",
   "name": "python3"
  },
  "language_info": {
   "codemirror_mode": {
    "name": "ipython",
    "version": 3
   },
   "file_extension": ".py",
   "mimetype": "text/x-python",
   "name": "python",
   "nbconvert_exporter": "python",
   "pygments_lexer": "ipython3",
   "version": "3.11.13"
  }
 },
 "nbformat": 4,
 "nbformat_minor": 5
}
