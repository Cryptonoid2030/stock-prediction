{
 "cells": [
  {
   "cell_type": "markdown",
   "id": "64cd687b",
   "metadata": {
    "papermill": {
     "duration": 0.003279,
     "end_time": "2025-08-14T01:07:23.480611",
     "exception": false,
     "start_time": "2025-08-14T01:07:23.477332",
     "status": "completed"
    },
    "tags": []
   },
   "source": [
    "References:\n",
    "https://www.youtube.com/watch?v=CbTU92pbDKw\n",
    "https://arxiv.org/pdf/2203.12105\n",
    "https://github.com/jordan-bird/Keras-LSTM-Music-Generator/tree/master"
   ]
  },
  {
   "cell_type": "code",
   "execution_count": 1,
   "id": "ec5599cd",
   "metadata": {
    "execution": {
     "iopub.execute_input": "2025-08-14T01:07:23.487381Z",
     "iopub.status.busy": "2025-08-14T01:07:23.487089Z",
     "iopub.status.idle": "2025-08-14T01:07:33.477789Z",
     "shell.execute_reply": "2025-08-14T01:07:33.476669Z"
    },
    "papermill": {
     "duration": 9.995794,
     "end_time": "2025-08-14T01:07:33.479397",
     "exception": false,
     "start_time": "2025-08-14T01:07:23.483603",
     "status": "completed"
    },
    "tags": []
   },
   "outputs": [
    {
     "name": "stdout",
     "output_type": "stream",
     "text": [
      "Collecting miditok\r\n",
      "  Downloading miditok-3.0.6.post1-py3-none-any.whl.metadata (10 kB)\r\n",
      "Collecting miditoolkit\r\n",
      "  Downloading miditoolkit-1.0.1-py3-none-any.whl.metadata (4.9 kB)\r\n",
      "Collecting muspy\r\n",
      "  Downloading muspy-0.5.0-py3-none-any.whl.metadata (5.5 kB)\r\n",
      "Requirement already satisfied: huggingface-hub>=0.16.4 in /usr/local/lib/python3.11/dist-packages (from miditok) (0.33.1)\r\n",
      "Requirement already satisfied: numpy>=1.19 in /usr/local/lib/python3.11/dist-packages (from miditok) (1.26.4)\r\n",
      "Collecting symusic>=0.5.0 (from miditok)\r\n",
      "  Downloading symusic-0.5.8-cp311-cp311-manylinux_2_27_x86_64.manylinux_2_28_x86_64.whl.metadata (9.0 kB)\r\n",
      "Requirement already satisfied: tokenizers>=0.13.0 in /usr/local/lib/python3.11/dist-packages (from miditok) (0.21.2)\r\n",
      "Requirement already satisfied: tqdm in /usr/local/lib/python3.11/dist-packages (from miditok) (4.67.1)\r\n",
      "Requirement already satisfied: matplotlib in /usr/local/lib/python3.11/dist-packages (from miditoolkit) (3.7.2)\r\n",
      "Collecting mido>=1.1.16 (from miditoolkit)\r\n",
      "  Downloading mido-1.3.3-py3-none-any.whl.metadata (6.4 kB)\r\n",
      "Requirement already satisfied: PyYAML>=3.0 in /usr/local/lib/python3.11/dist-packages (from muspy) (6.0.2)\r\n",
      "Collecting bidict>=0.21 (from muspy)\r\n",
      "  Downloading bidict-0.23.1-py3-none-any.whl.metadata (8.7 kB)\r\n",
      "Requirement already satisfied: joblib>=0.15 in /usr/local/lib/python3.11/dist-packages (from muspy) (1.5.1)\r\n",
      "Requirement already satisfied: music21>=6.0 in /usr/local/lib/python3.11/dist-packages (from muspy) (9.3.0)\r\n",
      "Collecting pretty-midi>=0.2 (from muspy)\r\n",
      "  Downloading pretty_midi-0.2.10.tar.gz (5.6 MB)\r\n",
      "\u001b[2K     \u001b[90m━━━━━━━━━━━━━━━━━━━━━━━━━━━━━━━━━━━━━━━━\u001b[0m \u001b[32m5.6/5.6 MB\u001b[0m \u001b[31m44.1 MB/s\u001b[0m eta \u001b[36m0:00:00\u001b[0m\r\n",
      "\u001b[?25h  Preparing metadata (setup.py) ... \u001b[?25l\u001b[?25hdone\r\n",
      "Collecting pypianoroll>=1.0 (from muspy)\r\n",
      "  Downloading pypianoroll-1.0.4-py3-none-any.whl.metadata (3.8 kB)\r\n",
      "Requirement already satisfied: requests>=2.0 in /usr/local/lib/python3.11/dist-packages (from muspy) (2.32.4)\r\n",
      "Requirement already satisfied: filelock in /usr/local/lib/python3.11/dist-packages (from huggingface-hub>=0.16.4->miditok) (3.18.0)\r\n",
      "Requirement already satisfied: fsspec>=2023.5.0 in /usr/local/lib/python3.11/dist-packages (from huggingface-hub>=0.16.4->miditok) (2025.5.1)\r\n",
      "Requirement already satisfied: packaging>=20.9 in /usr/local/lib/python3.11/dist-packages (from huggingface-hub>=0.16.4->miditok) (25.0)\r\n",
      "Requirement already satisfied: typing-extensions>=3.7.4.3 in /usr/local/lib/python3.11/dist-packages (from huggingface-hub>=0.16.4->miditok) (4.14.0)\r\n",
      "Requirement already satisfied: hf-xet<2.0.0,>=1.1.2 in /usr/local/lib/python3.11/dist-packages (from huggingface-hub>=0.16.4->miditok) (1.1.5)\r\n",
      "Requirement already satisfied: contourpy>=1.0.1 in /usr/local/lib/python3.11/dist-packages (from matplotlib->miditoolkit) (1.3.2)\r\n",
      "Requirement already satisfied: cycler>=0.10 in /usr/local/lib/python3.11/dist-packages (from matplotlib->miditoolkit) (0.12.1)\r\n",
      "Requirement already satisfied: fonttools>=4.22.0 in /usr/local/lib/python3.11/dist-packages (from matplotlib->miditoolkit) (4.58.4)\r\n",
      "Requirement already satisfied: kiwisolver>=1.0.1 in /usr/local/lib/python3.11/dist-packages (from matplotlib->miditoolkit) (1.4.8)\r\n",
      "Requirement already satisfied: pillow>=6.2.0 in /usr/local/lib/python3.11/dist-packages (from matplotlib->miditoolkit) (11.2.1)\r\n",
      "Requirement already satisfied: pyparsing<3.1,>=2.3.1 in /usr/local/lib/python3.11/dist-packages (from matplotlib->miditoolkit) (3.0.9)\r\n",
      "Requirement already satisfied: python-dateutil>=2.7 in /usr/local/lib/python3.11/dist-packages (from matplotlib->miditoolkit) (2.9.0.post0)\r\n",
      "Requirement already satisfied: chardet in /usr/local/lib/python3.11/dist-packages (from music21>=6.0->muspy) (5.2.0)\r\n",
      "Requirement already satisfied: jsonpickle in /usr/local/lib/python3.11/dist-packages (from music21>=6.0->muspy) (4.1.1)\r\n",
      "Requirement already satisfied: more-itertools in /usr/local/lib/python3.11/dist-packages (from music21>=6.0->muspy) (10.7.0)\r\n",
      "Requirement already satisfied: webcolors>=1.5 in /usr/local/lib/python3.11/dist-packages (from music21>=6.0->muspy) (24.11.1)\r\n",
      "Requirement already satisfied: mkl_fft in /usr/local/lib/python3.11/dist-packages (from numpy>=1.19->miditok) (1.3.8)\r\n",
      "Requirement already satisfied: mkl_random in /usr/local/lib/python3.11/dist-packages (from numpy>=1.19->miditok) (1.2.4)\r\n",
      "Requirement already satisfied: mkl_umath in /usr/local/lib/python3.11/dist-packages (from numpy>=1.19->miditok) (0.1.1)\r\n",
      "Requirement already satisfied: mkl in /usr/local/lib/python3.11/dist-packages (from numpy>=1.19->miditok) (2025.2.0)\r\n",
      "Requirement already satisfied: tbb4py in /usr/local/lib/python3.11/dist-packages (from numpy>=1.19->miditok) (2022.2.0)\r\n",
      "Requirement already satisfied: mkl-service in /usr/local/lib/python3.11/dist-packages (from numpy>=1.19->miditok) (2.4.1)\r\n",
      "Requirement already satisfied: six in /usr/local/lib/python3.11/dist-packages (from pretty-midi>=0.2->muspy) (1.17.0)\r\n",
      "Requirement already satisfied: scipy>=1.0.0 in /usr/local/lib/python3.11/dist-packages (from pypianoroll>=1.0->muspy) (1.15.3)\r\n",
      "Requirement already satisfied: charset_normalizer<4,>=2 in /usr/local/lib/python3.11/dist-packages (from requests>=2.0->muspy) (3.4.2)\r\n",
      "Requirement already satisfied: idna<4,>=2.5 in /usr/local/lib/python3.11/dist-packages (from requests>=2.0->muspy) (3.10)\r\n",
      "Requirement already satisfied: urllib3<3,>=1.21.1 in /usr/local/lib/python3.11/dist-packages (from requests>=2.0->muspy) (2.5.0)\r\n",
      "Requirement already satisfied: certifi>=2017.4.17 in /usr/local/lib/python3.11/dist-packages (from requests>=2.0->muspy) (2025.6.15)\r\n",
      "Collecting pySmartDL (from symusic>=0.5.0->miditok)\r\n",
      "  Downloading pySmartDL-1.3.4-py3-none-any.whl.metadata (2.8 kB)\r\n",
      "Requirement already satisfied: platformdirs in /usr/local/lib/python3.11/dist-packages (from symusic>=0.5.0->miditok) (4.3.8)\r\n",
      "Requirement already satisfied: intel-openmp<2026,>=2024 in /usr/local/lib/python3.11/dist-packages (from mkl->numpy>=1.19->miditok) (2024.2.0)\r\n",
      "Requirement already satisfied: tbb==2022.* in /usr/local/lib/python3.11/dist-packages (from mkl->numpy>=1.19->miditok) (2022.2.0)\r\n",
      "Requirement already satisfied: tcmlib==1.* in /usr/local/lib/python3.11/dist-packages (from tbb==2022.*->mkl->numpy>=1.19->miditok) (1.4.0)\r\n",
      "Requirement already satisfied: intel-cmplr-lib-rt in /usr/local/lib/python3.11/dist-packages (from mkl_umath->numpy>=1.19->miditok) (2024.2.0)\r\n",
      "Requirement already satisfied: intel-cmplr-lib-ur==2024.2.0 in /usr/local/lib/python3.11/dist-packages (from intel-openmp<2026,>=2024->mkl->numpy>=1.19->miditok) (2024.2.0)\r\n",
      "Downloading miditok-3.0.6.post1-py3-none-any.whl (159 kB)\r\n",
      "\u001b[2K   \u001b[90m━━━━━━━━━━━━━━━━━━━━━━━━━━━━━━━━━━━━━━━━\u001b[0m \u001b[32m159.0/159.0 kB\u001b[0m \u001b[31m9.2 MB/s\u001b[0m eta \u001b[36m0:00:00\u001b[0m\r\n",
      "\u001b[?25hDownloading miditoolkit-1.0.1-py3-none-any.whl (24 kB)\r\n",
      "Downloading muspy-0.5.0-py3-none-any.whl (119 kB)\r\n",
      "\u001b[2K   \u001b[90m━━━━━━━━━━━━━━━━━━━━━━━━━━━━━━━━━━━━━━━━\u001b[0m \u001b[32m119.1/119.1 kB\u001b[0m \u001b[31m1.7 MB/s\u001b[0m eta \u001b[36m0:00:00\u001b[0m\r\n",
      "\u001b[?25hDownloading bidict-0.23.1-py3-none-any.whl (32 kB)\r\n",
      "Downloading mido-1.3.3-py3-none-any.whl (54 kB)\r\n",
      "\u001b[2K   \u001b[90m━━━━━━━━━━━━━━━━━━━━━━━━━━━━━━━━━━━━━━━━\u001b[0m \u001b[32m54.6/54.6 kB\u001b[0m \u001b[31m3.6 MB/s\u001b[0m eta \u001b[36m0:00:00\u001b[0m\r\n",
      "\u001b[?25hDownloading pypianoroll-1.0.4-py3-none-any.whl (26 kB)\r\n",
      "Downloading symusic-0.5.8-cp311-cp311-manylinux_2_27_x86_64.manylinux_2_28_x86_64.whl (2.5 MB)\r\n",
      "\u001b[2K   \u001b[90m━━━━━━━━━━━━━━━━━━━━━━━━━━━━━━━━━━━━━━━━\u001b[0m \u001b[32m2.5/2.5 MB\u001b[0m \u001b[31m50.9 MB/s\u001b[0m eta \u001b[36m0:00:00\u001b[0m\r\n",
      "\u001b[?25hDownloading pySmartDL-1.3.4-py3-none-any.whl (20 kB)\r\n",
      "Building wheels for collected packages: pretty-midi\r\n",
      "  Building wheel for pretty-midi (setup.py) ... \u001b[?25l\u001b[?25hdone\r\n",
      "  Created wheel for pretty-midi: filename=pretty_midi-0.2.10-py3-none-any.whl size=5592286 sha256=6c75e52dd735d2db877185a79f478f2031eb39ec57e1ff9d6f89c97f76b68891\r\n",
      "  Stored in directory: /root/.cache/pip/wheels/e6/95/ac/15ceaeb2823b04d8e638fd1495357adb8d26c00ccac9d7782e\r\n",
      "Successfully built pretty-midi\r\n",
      "Installing collected packages: pySmartDL, mido, bidict, pretty-midi, symusic, pypianoroll, miditoolkit, muspy, miditok\r\n",
      "Successfully installed bidict-0.23.1 miditok-3.0.6.post1 miditoolkit-1.0.1 mido-1.3.3 muspy-0.5.0 pretty-midi-0.2.10 pySmartDL-1.3.4 pypianoroll-1.0.4 symusic-0.5.8\r\n"
     ]
    }
   ],
   "source": [
    "!pip install miditok miditoolkit muspy"
   ]
  },
  {
   "cell_type": "code",
   "execution_count": 2,
   "id": "dba11d2f",
   "metadata": {
    "execution": {
     "iopub.execute_input": "2025-08-14T01:07:33.489512Z",
     "iopub.status.busy": "2025-08-14T01:07:33.489191Z",
     "iopub.status.idle": "2025-08-14T01:07:33.495669Z",
     "shell.execute_reply": "2025-08-14T01:07:33.494940Z"
    },
    "papermill": {
     "duration": 0.013063,
     "end_time": "2025-08-14T01:07:33.496989",
     "exception": false,
     "start_time": "2025-08-14T01:07:33.483926",
     "status": "completed"
    },
    "tags": []
   },
   "outputs": [],
   "source": [
    "def transpose_midi(midi, semitone_shift):\n",
    "    \"\"\"Return a copy of MIDI transposed by semitone_shift.\"\"\"\n",
    "    new_midi = deepcopy(midi)\n",
    "    for inst in new_midi.instruments:\n",
    "        for note in inst.notes:\n",
    "            note.pitch += semitone_shift\n",
    "    return new_midi\n",
    "\n",
    "def augment_midi(midi):\n",
    "    \"\"\"Generate transposed versions of the MIDI file.\"\"\"\n",
    "    augmented = []\n",
    "    for shift in range(-1, 2):  # -6 to +6 semitones; original (-6, 7)\n",
    "        if shift == 0:\n",
    "            augmented.append(deepcopy(midi))  # original\n",
    "        else:\n",
    "            augmented.append(transpose_midi(midi, shift))\n",
    "    return augmented"
   ]
  },
  {
   "cell_type": "code",
   "execution_count": 3,
   "id": "1251d234",
   "metadata": {
    "execution": {
     "iopub.execute_input": "2025-08-14T01:07:33.506436Z",
     "iopub.status.busy": "2025-08-14T01:07:33.506124Z",
     "iopub.status.idle": "2025-08-14T01:08:11.100749Z",
     "shell.execute_reply": "2025-08-14T01:08:11.099400Z"
    },
    "papermill": {
     "duration": 37.605209,
     "end_time": "2025-08-14T01:08:11.106398",
     "exception": false,
     "start_time": "2025-08-14T01:07:33.501189",
     "status": "completed"
    },
    "tags": []
   },
   "outputs": [
    {
     "name": "stderr",
     "output_type": "stream",
     "text": [
      "/tmp/ipykernel_19/452880983.py:8: UserWarning: Argument nb_tempos has been renamed num_tempos, you should consider to updateyour code with this new argument name.\n",
      "  config = TokenizerConfig(\n",
      "/tmp/ipykernel_19/452880983.py:30: UserWarning: You are using a depreciated `miditoolkit.MidiFile` object. MidiTokis now (>v3.0.0) using symusic.Score as MIDI backend. Your file willbe converted on the fly, however please consider using symusic.\n",
      "  tokens = tokenizer(aug_midi)\n"
     ]
    },
    {
     "name": "stdout",
     "output_type": "stream",
     "text": [
      "Total token sequences: 624\n"
     ]
    }
   ],
   "source": [
    "from miditok import REMI, TokenizerConfig\n",
    "from miditoolkit import MidiFile\n",
    "from pathlib import Path\n",
    "import numpy as np\n",
    "from copy import deepcopy\n",
    "\n",
    "# --- Tokenizer config ---\n",
    "config = TokenizerConfig(\n",
    "    use_chords=True,\n",
    "    use_rests=True,\n",
    "    use_tempos=True,\n",
    "    use_time_signatures=True,\n",
    "    nb_tempos=32,\n",
    "    tempo_range=(40, 250),\n",
    "    chord_types='all'\n",
    ")\n",
    "\n",
    "tokenizer = REMI(config)\n",
    "\n",
    "# --- Tokenize all MIDI files directly in memory ---\n",
    "midi_folder = Path(\"/kaggle/input/lstm-midi-training\")\n",
    "all_sequences = []\n",
    "\n",
    "for midi_path in midi_folder.glob(\"*.mid\"):\n",
    "    try:\n",
    "        midi = MidiFile(midi_path)\n",
    "        augmented_versions = augment_midi(midi)\n",
    "\n",
    "        for aug_midi in augmented_versions:\n",
    "            tokens = tokenizer(aug_midi)\n",
    "            if isinstance(tokens, list):\n",
    "                for seq in tokens:\n",
    "                    all_sequences.append(seq.ids)\n",
    "            else:\n",
    "                all_sequences.append(tokens.ids)\n",
    "\n",
    "    except Exception as e:\n",
    "        print(f\"Error with {midi_path.name}: {e}\")\n",
    "\n",
    "print(f\"Total token sequences: {len(all_sequences)}\")"
   ]
  },
  {
   "cell_type": "code",
   "execution_count": 4,
   "id": "d461f7a5",
   "metadata": {
    "execution": {
     "iopub.execute_input": "2025-08-14T01:08:11.116104Z",
     "iopub.status.busy": "2025-08-14T01:08:11.115673Z",
     "iopub.status.idle": "2025-08-14T01:08:34.261321Z",
     "shell.execute_reply": "2025-08-14T01:08:34.260319Z"
    },
    "papermill": {
     "duration": 23.152276,
     "end_time": "2025-08-14T01:08:34.262834",
     "exception": false,
     "start_time": "2025-08-14T01:08:11.110558",
     "status": "completed"
    },
    "tags": []
   },
   "outputs": [
    {
     "name": "stdout",
     "output_type": "stream",
     "text": [
      "Training samples: 1862380\n",
      "X shape: (1862380, 128), y shape: (1862380,)\n"
     ]
    }
   ],
   "source": [
    "SEQ_LENGTH = 128  # number of tokens per input sequence\n",
    "X, y = [], []\n",
    "\n",
    "for seq in all_sequences:\n",
    "    if len(seq) <= SEQ_LENGTH:\n",
    "        continue\n",
    "    for i in range(len(seq) - SEQ_LENGTH):\n",
    "        X.append(seq[i:i+SEQ_LENGTH])\n",
    "        y.append(seq[i+SEQ_LENGTH])\n",
    "\n",
    "X = np.array(X, dtype=np.int32)\n",
    "y = np.array(y, dtype=np.int32)\n",
    "\n",
    "print(f\"Training samples: {X.shape[0]}\")\n",
    "print(f\"X shape: {X.shape}, y shape: {y.shape}\")\n",
    "\n",
    "vocab_size = tokenizer.vocab_size"
   ]
  },
  {
   "cell_type": "code",
   "execution_count": 5,
   "id": "baf2ae42",
   "metadata": {
    "execution": {
     "iopub.execute_input": "2025-08-14T01:08:34.272497Z",
     "iopub.status.busy": "2025-08-14T01:08:34.272199Z",
     "iopub.status.idle": "2025-08-14T01:08:35.785460Z",
     "shell.execute_reply": "2025-08-14T01:08:35.784775Z"
    },
    "papermill": {
     "duration": 1.519867,
     "end_time": "2025-08-14T01:08:35.787094",
     "exception": false,
     "start_time": "2025-08-14T01:08:34.267227",
     "status": "completed"
    },
    "tags": []
   },
   "outputs": [],
   "source": [
    "from sklearn.model_selection import train_test_split\n",
    "X_train, X_val, y_train, y_val = train_test_split(\n",
    "    X, y, test_size=0.2, shuffle=False\n",
    ")"
   ]
  },
  {
   "cell_type": "code",
   "execution_count": 6,
   "id": "84285172",
   "metadata": {
    "execution": {
     "iopub.execute_input": "2025-08-14T01:08:35.796835Z",
     "iopub.status.busy": "2025-08-14T01:08:35.796380Z",
     "iopub.status.idle": "2025-08-14T10:02:46.070286Z",
     "shell.execute_reply": "2025-08-14T10:02:46.069419Z"
    },
    "papermill": {
     "duration": 32052.265486,
     "end_time": "2025-08-14T10:02:48.056812",
     "exception": false,
     "start_time": "2025-08-14T01:08:35.791326",
     "status": "completed"
    },
    "tags": []
   },
   "outputs": [
    {
     "name": "stderr",
     "output_type": "stream",
     "text": [
      "2025-08-14 01:08:37.377709: E external/local_xla/xla/stream_executor/cuda/cuda_fft.cc:477] Unable to register cuFFT factory: Attempting to register factory for plugin cuFFT when one has already been registered\n",
      "WARNING: All log messages before absl::InitializeLog() is called are written to STDERR\n",
      "E0000 00:00:1755133717.589671      19 cuda_dnn.cc:8310] Unable to register cuDNN factory: Attempting to register factory for plugin cuDNN when one has already been registered\n",
      "E0000 00:00:1755133717.647457      19 cuda_blas.cc:1418] Unable to register cuBLAS factory: Attempting to register factory for plugin cuBLAS when one has already been registered\n",
      "I0000 00:00:1755133732.725013      19 gpu_device.cc:2022] Created device /job:localhost/replica:0/task:0/device:GPU:0 with 15513 MB memory:  -> device: 0, name: Tesla P100-PCIE-16GB, pci bus id: 0000:00:04.0, compute capability: 6.0\n"
     ]
    },
    {
     "name": "stdout",
     "output_type": "stream",
     "text": [
      "Epoch 1/15\n"
     ]
    },
    {
     "name": "stderr",
     "output_type": "stream",
     "text": [
      "I0000 00:00:1755133746.649813      76 cuda_dnn.cc:529] Loaded cuDNN version 90300\n"
     ]
    },
    {
     "name": "stdout",
     "output_type": "stream",
     "text": [
      "\u001b[1m2910/2910\u001b[0m \u001b[32m━━━━━━━━━━━━━━━━━━━━\u001b[0m\u001b[37m\u001b[0m \u001b[1m2153s\u001b[0m 734ms/step - accuracy: 0.3239 - loss: 3.0878 - val_accuracy: 0.4635 - val_loss: 1.9412\n",
      "Epoch 2/15\n",
      "\u001b[1m2910/2910\u001b[0m \u001b[32m━━━━━━━━━━━━━━━━━━━━\u001b[0m\u001b[37m\u001b[0m \u001b[1m2134s\u001b[0m 733ms/step - accuracy: 0.6094 - loss: 1.2430 - val_accuracy: 0.4596 - val_loss: 2.1040\n",
      "Epoch 3/15\n",
      "\u001b[1m2910/2910\u001b[0m \u001b[32m━━━━━━━━━━━━━━━━━━━━\u001b[0m\u001b[37m\u001b[0m \u001b[1m2135s\u001b[0m 734ms/step - accuracy: 0.6783 - loss: 0.9601 - val_accuracy: 0.4609 - val_loss: 2.4467\n",
      "Epoch 4/15\n",
      "\u001b[1m2910/2910\u001b[0m \u001b[32m━━━━━━━━━━━━━━━━━━━━\u001b[0m\u001b[37m\u001b[0m \u001b[1m2137s\u001b[0m 734ms/step - accuracy: 0.7236 - loss: 0.7922 - val_accuracy: 0.4557 - val_loss: 2.7005\n",
      "Epoch 5/15\n",
      "\u001b[1m2910/2910\u001b[0m \u001b[32m━━━━━━━━━━━━━━━━━━━━\u001b[0m\u001b[37m\u001b[0m \u001b[1m2134s\u001b[0m 733ms/step - accuracy: 0.7546 - loss: 0.6867 - val_accuracy: 0.4558 - val_loss: 2.9436\n",
      "Epoch 6/15\n",
      "\u001b[1m2910/2910\u001b[0m \u001b[32m━━━━━━━━━━━━━━━━━━━━\u001b[0m\u001b[37m\u001b[0m \u001b[1m2132s\u001b[0m 733ms/step - accuracy: 0.7744 - loss: 0.6186 - val_accuracy: 0.4537 - val_loss: 3.1315\n",
      "Epoch 7/15\n",
      "\u001b[1m2910/2910\u001b[0m \u001b[32m━━━━━━━━━━━━━━━━━━━━\u001b[0m\u001b[37m\u001b[0m \u001b[1m2134s\u001b[0m 733ms/step - accuracy: 0.7912 - loss: 0.5669 - val_accuracy: 0.4551 - val_loss: 3.3227\n",
      "Epoch 8/15\n",
      "\u001b[1m2910/2910\u001b[0m \u001b[32m━━━━━━━━━━━━━━━━━━━━\u001b[0m\u001b[37m\u001b[0m \u001b[1m2134s\u001b[0m 733ms/step - accuracy: 0.8028 - loss: 0.5287 - val_accuracy: 0.4551 - val_loss: 3.4014\n",
      "Epoch 9/15\n",
      "\u001b[1m2910/2910\u001b[0m \u001b[32m━━━━━━━━━━━━━━━━━━━━\u001b[0m\u001b[37m\u001b[0m \u001b[1m2136s\u001b[0m 734ms/step - accuracy: 0.8119 - loss: 0.5025 - val_accuracy: 0.4507 - val_loss: 3.5193\n",
      "Epoch 10/15\n",
      "\u001b[1m2910/2910\u001b[0m \u001b[32m━━━━━━━━━━━━━━━━━━━━\u001b[0m\u001b[37m\u001b[0m \u001b[1m2133s\u001b[0m 733ms/step - accuracy: 0.8194 - loss: 0.4800 - val_accuracy: 0.4500 - val_loss: 3.5702\n",
      "Epoch 11/15\n",
      "\u001b[1m2910/2910\u001b[0m \u001b[32m━━━━━━━━━━━━━━━━━━━━\u001b[0m\u001b[37m\u001b[0m \u001b[1m2132s\u001b[0m 733ms/step - accuracy: 0.8252 - loss: 0.4610 - val_accuracy: 0.4519 - val_loss: 3.6172\n",
      "Epoch 12/15\n",
      "\u001b[1m2910/2910\u001b[0m \u001b[32m━━━━━━━━━━━━━━━━━━━━\u001b[0m\u001b[37m\u001b[0m \u001b[1m2133s\u001b[0m 733ms/step - accuracy: 0.8300 - loss: 0.4470 - val_accuracy: 0.4498 - val_loss: 3.7428\n",
      "Epoch 13/15\n",
      "\u001b[1m2910/2910\u001b[0m \u001b[32m━━━━━━━━━━━━━━━━━━━━\u001b[0m\u001b[37m\u001b[0m \u001b[1m2135s\u001b[0m 734ms/step - accuracy: 0.8339 - loss: 0.4360 - val_accuracy: 0.4515 - val_loss: 3.7355\n",
      "Epoch 14/15\n",
      "\u001b[1m2910/2910\u001b[0m \u001b[32m━━━━━━━━━━━━━━━━━━━━\u001b[0m\u001b[37m\u001b[0m \u001b[1m2135s\u001b[0m 734ms/step - accuracy: 0.8376 - loss: 0.4236 - val_accuracy: 0.4496 - val_loss: 3.8074\n",
      "Epoch 15/15\n",
      "\u001b[1m2910/2910\u001b[0m \u001b[32m━━━━━━━━━━━━━━━━━━━━\u001b[0m\u001b[37m\u001b[0m \u001b[1m2134s\u001b[0m 733ms/step - accuracy: 0.8400 - loss: 0.4158 - val_accuracy: 0.4502 - val_loss: 3.8068\n"
     ]
    }
   ],
   "source": [
    "from tensorflow.keras.models import Sequential\n",
    "from tensorflow.keras.optimizers import Adam\n",
    "from tensorflow.keras import layers\n",
    "from tensorflow.keras.callbacks import EarlyStopping\n",
    "import tensorflow as tf\n",
    "\n",
    "tf.keras.mixed_precision.set_global_policy('mixed_float16')\n",
    "\n",
    "# --- Define model ---\n",
    "# model = Sequential([\n",
    "#     layers.Input(shape=(3, 2)),\n",
    "#     layers.Bidirectional(layers.LSTM(128, return_sequences=True)),\n",
    "#     layers.Bidirectional(layers.LSTM(64)),\n",
    "#     layers.BatchNormalization(),\n",
    "#     layers.Dense(128, activation='relu'),\n",
    "#     layers.Dropout(0.3),\n",
    "#     layers.Dense(64, activation='relu'),\n",
    "#     layers.Dense(2)\n",
    "# ])\n",
    "model = Sequential([\n",
    "  layers.Embedding(input_dim=vocab_size, output_dim=256),\n",
    "  layers.LSTM(512, return_sequences=True),\n",
    "  layers.LSTM(1024, return_sequences=True),\n",
    "  # layers.LSTM(1024, return_sequences=True),\n",
    "  layers.LSTM(512),\n",
    "  layers.Dropout(0.3),\n",
    "  layers.BatchNormalization(),\n",
    "  layers.Dense(256),\n",
    "  layers.Dropout(0.3),\n",
    "  layers.Dense(128),\n",
    "  layers.Dropout(0.3),\n",
    "  layers.Activation(activation='swish'),\n",
    "  layers.BatchNormalization(),\n",
    "  layers.Dense(vocab_size, activation='softmax')\n",
    "])\n",
    "\n",
    "model.compile(\n",
    "    loss='sparse_categorical_crossentropy',\n",
    "    optimizer=Adam(learning_rate=0.001),\n",
    "    metrics=['accuracy']\n",
    ")\n",
    "\n",
    "# --- Early stopping ---\n",
    "# early_stop = EarlyStopping(\n",
    "#     monitor='val_loss',\n",
    "#     patience=10,\n",
    "#     restore_best_weights=True\n",
    "# )\n",
    "\n",
    "log_dir = \"logs/fit/0.0001-300epoch\"\n",
    "tensorboard_callback = tf.keras.callbacks.TensorBoard(log_dir=log_dir, histogram_freq=1)\n",
    "\n",
    "# --- Train ---\n",
    "history = model.fit(\n",
    "    X_train, y_train,\n",
    "    validation_data=(X_val, y_val),\n",
    "    epochs=15,\n",
    "    # callbacks=[early_stop]\n",
    "    callbacks=[tensorboard_callback],\n",
    "    batch_size=512\n",
    ")\n"
   ]
  },
  {
   "cell_type": "code",
   "execution_count": 7,
   "id": "3848ad61",
   "metadata": {
    "execution": {
     "iopub.execute_input": "2025-08-14T10:02:52.014198Z",
     "iopub.status.busy": "2025-08-14T10:02:52.013566Z",
     "iopub.status.idle": "2025-08-14T10:05:42.766813Z",
     "shell.execute_reply": "2025-08-14T10:05:42.766056Z"
    },
    "papermill": {
     "duration": 172.815694,
     "end_time": "2025-08-14T10:05:42.768352",
     "exception": false,
     "start_time": "2025-08-14T10:02:49.952658",
     "status": "completed"
    },
    "tags": []
   },
   "outputs": [],
   "source": [
    "import random\n",
    "import numpy as np\n",
    "import muspy\n",
    "\n",
    "# 1. Generate tokens\n",
    "seed = X[random.randint(0, len(X) - 1)].tolist()\n",
    "generated = seed.copy()\n",
    "\n",
    "seq_len = 64\n",
    "num_tokens_to_generate = 2000\n",
    "\n",
    "for _ in range(num_tokens_to_generate):\n",
    "    input_seq = np.array(generated[-seq_len:]).reshape(1, seq_len)\n",
    "    preds = model.predict(input_seq, verbose=0)[0]\n",
    "    next_token = np.argmax(preds)\n",
    "    generated.append(next_token)\n",
    "\n",
    "# Decode token sequence into ScoreTick\n",
    "score_tick = tokenizer.decode([generated])\n",
    "\n",
    "# Save MIDI file\n",
    "score_tick.dump_midi(\"generated_music.mid\")"
   ]
  },
  {
   "cell_type": "code",
   "execution_count": null,
   "id": "da94481d",
   "metadata": {
    "papermill": {
     "duration": 2.090386,
     "end_time": "2025-08-14T10:05:46.972385",
     "exception": false,
     "start_time": "2025-08-14T10:05:44.881999",
     "status": "completed"
    },
    "tags": []
   },
   "outputs": [],
   "source": []
  }
 ],
 "metadata": {
  "kaggle": {
   "accelerator": "gpu",
   "dataSources": [
    {
     "datasetId": 8057564,
     "sourceId": 12746248,
     "sourceType": "datasetVersion"
    }
   ],
   "dockerImageVersionId": 31090,
   "isGpuEnabled": true,
   "isInternetEnabled": true,
   "language": "python",
   "sourceType": "notebook"
  },
  "kernelspec": {
   "display_name": "Python 3",
   "language": "python",
   "name": "python3"
  },
  "language_info": {
   "codemirror_mode": {
    "name": "ipython",
    "version": 3
   },
   "file_extension": ".py",
   "mimetype": "text/x-python",
   "name": "python",
   "nbconvert_exporter": "python",
   "pygments_lexer": "ipython3",
   "version": "3.11.13"
  },
  "papermill": {
   "default_parameters": {},
   "duration": 32314.126826,
   "end_time": "2025-08-14T10:05:52.710364",
   "environment_variables": {},
   "exception": null,
   "input_path": "__notebook__.ipynb",
   "output_path": "__notebook__.ipynb",
   "parameters": {},
   "start_time": "2025-08-14T01:07:18.583538",
   "version": "2.6.0"
  }
 },
 "nbformat": 4,
 "nbformat_minor": 5
}
